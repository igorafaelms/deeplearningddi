{
  "nbformat": 4,
  "nbformat_minor": 0,
  "metadata": {
    "colab": {
      "name": "AI_integration2PACS.ipynb",
      "provenance": [],
      "authorship_tag": "ABX9TyMVB66ItS4M9TzMXTnz1ASf",
      "include_colab_link": true
    },
    "kernelspec": {
      "name": "python3",
      "display_name": "Python 3"
    }
  },
  "cells": [
    {
      "cell_type": "markdown",
      "metadata": {
        "id": "view-in-github",
        "colab_type": "text"
      },
      "source": [
        "<a href=\"https://colab.research.google.com/github/igorafaelms/deeplearningddi/blob/master/AI_integration2PACS.ipynb\" target=\"_parent\"><img src=\"https://colab.research.google.com/assets/colab-badge.svg\" alt=\"Open In Colab\"/></a>"
      ]
    },
    {
      "cell_type": "code",
      "metadata": {
        "id": "_1o8g-ss8KAU",
        "colab_type": "code",
        "colab": {
          "base_uri": "https://localhost:8080/",
          "height": 173
        },
        "outputId": "a7f2189f-1c37-4785-ceb0-86010d2a117f"
      },
      "source": [
        "!pip install pynetdicom"
      ],
      "execution_count": 1,
      "outputs": [
        {
          "output_type": "stream",
          "text": [
            "Collecting pynetdicom\n",
            "\u001b[?25l  Downloading https://files.pythonhosted.org/packages/a8/4a/fb3b50afe66fd37816a489aee0576bc39c30d2e36edec83d6804b9caed48/pynetdicom-1.4.1-py2.py3-none-any.whl (1.5MB)\n",
            "\u001b[K     |████████████████████████████████| 1.5MB 2.7MB/s \n",
            "\u001b[?25hCollecting pydicom>=1.2.1\n",
            "\u001b[?25l  Downloading https://files.pythonhosted.org/packages/53/e6/4cae2b4b2fdbea5e2ddd188361139606d8f10f710ba1abecd6600da099c3/pydicom-1.4.2-py2.py3-none-any.whl (35.3MB)\n",
            "\u001b[K     |████████████████████████████████| 35.3MB 120kB/s \n",
            "\u001b[?25hInstalling collected packages: pydicom, pynetdicom\n",
            "Successfully installed pydicom-1.4.2 pynetdicom-1.4.1\n"
          ],
          "name": "stdout"
        }
      ]
    },
    {
      "cell_type": "code",
      "metadata": {
        "id": "oP7iOJSL8Ny7",
        "colab_type": "code",
        "colab": {}
      },
      "source": [
        "import pynetdicom\n",
        "import pydicom\n",
        "from pynetdicom import AE\n",
        "from pynetdicom.sop_class import PatientRootQueryRetrieveInformationModelFind, \\\n",
        "StudyRootQueryRetrieveInformationModelFind"
      ],
      "execution_count": 0,
      "outputs": []
    },
    {
      "cell_type": "code",
      "metadata": {
        "id": "lLkb9jfj8VuW",
        "colab_type": "code",
        "colab": {
          "base_uri": "https://localhost:8080/",
          "height": 1000
        },
        "outputId": "9b6164f4-1a55-4490-98e3-e11d289ccbf2"
      },
      "source": [
        "addr = \"www.dicomserver.co.uk\"\n",
        "port = 104\n",
        "\n",
        "\n",
        "ds = pydicom.Dataset()\n",
        "ds.PatientName = '*TEST*'\n",
        "ds.QueryRetrieveLevel = 'PATIENT'\n",
        "\n",
        "ae = AE(ae_title=b'MY_ECHO_SCU')\n",
        "# Verification SOP Class has a UID of 1.2.840.10008.1.1\n",
        "#   we can use the UID str directly when adding the requested\n",
        "#   presentation context\n",
        "ae.add_requested_context('1.2.840.10008.1.1')\n",
        "ae.add_requested_context(StudyRootQueryRetrieveInformationModelFind)\n",
        "ae.add_requested_context(PatientRootQueryRetrieveInformationModelFind)\n",
        "\n",
        "# Associate with a peer AE\n",
        "assoc = ae.associate(addr, port)\n",
        "\n",
        "if assoc.is_established:\n",
        "    # Send a DIMSE C-ECHO request to the peer\n",
        "    status = assoc.send_c_echo()\n",
        "\n",
        "    # Print the response from the peer\n",
        "    if status:\n",
        "        print('C-ECHO Response: 0x{0:04x}'.format(status.Status))\n",
        "        responses = assoc.send_c_find(ds,PatientRootQueryRetrieveInformationModelFind)\n",
        "        for (status, identifier) in responses:\n",
        "            if status:\n",
        "                print('C-FIND query status: 0x{0:04x}'.format(status.Status))\n",
        "\n",
        "                # If the status is 'Pending' then identifier is the C-FIND response\n",
        "                if status.Status in (0xFF00, 0xFF01):\n",
        "                    print(identifier)\n",
        "            else:\n",
        "                print('Connection timed out, was aborted or received invalid response')\n",
        "    # Release the association\n",
        "    assoc.release()\n",
        "    print(\"Association Released.\")"
      ],
      "execution_count": 21,
      "outputs": [
        {
          "output_type": "stream",
          "text": [
            "C-ECHO Response: 0x0000\n",
            "C-FIND query status: 0xff00\n",
            "(0008, 0005) Specific Character Set              CS: ''\n",
            "(0008, 0052) Query/Retrieve Level                CS: 'PATIENT'\n",
            "(0008, 0054) Retrieve AE Title                   AE: 'ANY-SCP'\n",
            "(0010, 0010) Patient's Name                      PN: 'COM PDF import test'\n",
            "C-FIND query status: 0xff00\n",
            "(0008, 0005) Specific Character Set              CS: ''\n",
            "(0008, 0052) Query/Retrieve Level                CS: 'PATIENT'\n",
            "(0008, 0054) Retrieve AE Title                   AE: 'ANY-SCP'\n",
            "(0010, 0010) Patient's Name                      PN: 'COM PDF import Test'\n",
            "C-FIND query status: 0xff00\n",
            "(0008, 0005) Specific Character Set              CS: ''\n",
            "(0008, 0052) Query/Retrieve Level                CS: 'PATIENT'\n",
            "(0008, 0054) Retrieve AE Title                   AE: 'ANY-SCP'\n",
            "(0010, 0010) Patient's Name                      PN: 'TEST-DEMO^TEST-DEMO'\n",
            "C-FIND query status: 0xff00\n",
            "(0008, 0005) Specific Character Set              CS: ''\n",
            "(0008, 0052) Query/Retrieve Level                CS: 'PATIENT'\n",
            "(0008, 0054) Retrieve AE Title                   AE: 'ANY-SCP'\n",
            "(0010, 0010) Patient's Name                      PN: 'TEST^Photometric Interpretation'\n",
            "C-FIND query status: 0xff00\n",
            "(0008, 0005) Specific Character Set              CS: ''\n",
            "(0008, 0052) Query/Retrieve Level                CS: 'PATIENT'\n",
            "(0008, 0054) Retrieve AE Title                   AE: 'ANY-SCP'\n",
            "(0010, 0010) Patient's Name                      PN: 'TestData:28_01_20'\n",
            "C-FIND query status: 0xff00\n",
            "(0008, 0005) Specific Character Set              CS: ''\n",
            "(0008, 0052) Query/Retrieve Level                CS: 'PATIENT'\n",
            "(0008, 0054) Retrieve AE Title                   AE: 'ANY-SCP'\n",
            "(0010, 0010) Patient's Name                      PN: 'TestPatient_19_03_20'\n",
            "C-FIND query status: 0xff00\n",
            "(0008, 0005) Specific Character Set              CS: 'ISO_IR 100'\n",
            "(0008, 0052) Query/Retrieve Level                CS: 'PATIENT'\n",
            "(0008, 0054) Retrieve AE Title                   AE: 'ANY-SCP'\n",
            "(0010, 0010) Patient's Name                      PN: 'advise2test^Frebus'\n",
            "C-FIND query status: 0xff00\n",
            "(0008, 0005) Specific Character Set              CS: 'ISO_IR 100'\n",
            "(0008, 0052) Query/Retrieve Level                CS: 'PATIENT'\n",
            "(0008, 0054) Retrieve AE Title                   AE: 'ANY-SCP'\n",
            "(0010, 0010) Patient's Name                      PN: 'TEST^02^^^'\n",
            "C-FIND query status: 0xff00\n",
            "(0008, 0005) Specific Character Set              CS: 'ISO_IR 192'\n",
            "(0008, 0052) Query/Retrieve Level                CS: 'PATIENT'\n",
            "(0008, 0054) Retrieve AE Title                   AE: 'ANY-SCP'\n",
            "(0010, 0010) Patient's Name                      PN: 'Testing-EcG'\n",
            "C-FIND query status: 0xff00\n",
            "(0008, 0005) Specific Character Set              CS: 'ISO_IR 192'\n",
            "(0008, 0052) Query/Retrieve Level                CS: 'PATIENT'\n",
            "(0008, 0054) Retrieve AE Title                   AE: 'ANY-SCP'\n",
            "(0010, 0010) Patient's Name                      PN: 'Testing-EcGGGGG'\n",
            "C-FIND query status: 0xff00\n",
            "(0008, 0005) Specific Character Set              CS: 'ISO_IR 192'\n",
            "(0008, 0052) Query/Retrieve Level                CS: 'PATIENT'\n",
            "(0008, 0054) Retrieve AE Title                   AE: 'ANY-SCP'\n",
            "(0010, 0010) Patient's Name                      PN: 'TestPatient'\n",
            "C-FIND query status: 0x0000\n",
            "Association Released.\n"
          ],
          "name": "stdout"
        }
      ]
    },
    {
      "cell_type": "code",
      "metadata": {
        "id": "xwL9Slmr85fK",
        "colab_type": "code",
        "colab": {
          "base_uri": "https://localhost:8080/",
          "height": 34
        },
        "outputId": "ec1da767-655f-4280-c80b-7d78c14700c1"
      },
      "source": [
        "for _r in response:\n",
        "  print(_r)"
      ],
      "execution_count": 19,
      "outputs": [
        {
          "output_type": "stream",
          "text": [
            "(, None)\n"
          ],
          "name": "stdout"
        }
      ]
    },
    {
      "cell_type": "code",
      "metadata": {
        "id": "JS84gvmS_a7z",
        "colab_type": "code",
        "colab": {}
      },
      "source": [
        ""
      ],
      "execution_count": 0,
      "outputs": []
    }
  ]
}